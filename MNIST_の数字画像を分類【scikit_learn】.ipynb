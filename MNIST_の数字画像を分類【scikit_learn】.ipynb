{
  "nbformat": 4,
  "nbformat_minor": 0,
  "metadata": {
    "colab": {
      "name": " MNIST の数字画像を分類【scikit-learn】",
      "provenance": [],
      "toc_visible": true
    },
    "kernelspec": {
      "name": "python3",
      "display_name": "Python 3"
    },
    "accelerator": "GPU"
  },
  "cells": [
    {
      "cell_type": "code",
      "metadata": {
        "id": "wX9cdxVlbXOM",
        "colab_type": "code",
        "colab": {}
      },
      "source": [
        "from sklearn import datasets\n",
        "from sklearn.linear_model import LogisticRegression, LinearRegression\n",
        "from sklearn.metrics import accuracy_score, f1_score\n",
        "from sklearn.model_selection import train_test_split\n",
        "from sklearn.neural_network import MLPClassifier\n",
        "from sklearn.pipeline import make_pipeline\n",
        "from sklearn.preprocessing import StandardScaler\n",
        "from sklearn.svm import LinearSVC, SVC\n",
        "import matplotlib.pyplot as plt\n",
        "import numpy as np"
      ],
      "execution_count": 0,
      "outputs": []
    },
    {
      "cell_type": "code",
      "metadata": {
        "id": "V829jJ57brq-",
        "colab_type": "code",
        "outputId": "1c1aaca7-1277-4a69-f038-aeb80d3e63b2",
        "colab": {
          "base_uri": "https://localhost:8080/",
          "height": 51
        }
      },
      "source": [
        "# Load data from https://www.openml.org/d/554\n",
        "%time X, y = datasets.fetch_openml('mnist_784', version=1, return_X_y=True)"
      ],
      "execution_count": 0,
      "outputs": [
        {
          "output_type": "stream",
          "text": [
            "CPU times: user 17.3 s, sys: 648 ms, total: 17.9 s\n",
            "Wall time: 24.8 s\n"
          ],
          "name": "stdout"
        }
      ]
    },
    {
      "cell_type": "code",
      "metadata": {
        "id": "_ZpNzeMRb8tT",
        "colab_type": "code",
        "outputId": "7bd74373-df9b-4090-a370-0830fb449a2a",
        "colab": {
          "base_uri": "https://localhost:8080/",
          "height": 1000
        }
      },
      "source": [
        "print(f'正解データ: {y}')\n",
        "print(f'画像の次元: {X.shape}')\n",
        "print(f'最初のデータ: \\n{X[0]}')\n",
        "\n",
        "# 画像データは 784 個のピクセルが一列に並んでいるので、\n",
        "# 表示するには X[0].reshape(28,28) のように reshape で 28 x 28 の二次元配列に変換します。\n",
        "print(f'最初のデータ画像')\n",
        "plt.imshow(X[0].reshape(28,28), cmap=plt.cm.gray_r)"
      ],
      "execution_count": 0,
      "outputs": [
        {
          "output_type": "stream",
          "text": [
            "正解データ: ['5' '0' '4' ... '4' '5' '6']\n",
            "画像の次元: (70000, 784)\n",
            "最初のデータ: \n",
            "[  0.   0.   0.   0.   0.   0.   0.   0.   0.   0.   0.   0.   0.   0.\n",
            "   0.   0.   0.   0.   0.   0.   0.   0.   0.   0.   0.   0.   0.   0.\n",
            "   0.   0.   0.   0.   0.   0.   0.   0.   0.   0.   0.   0.   0.   0.\n",
            "   0.   0.   0.   0.   0.   0.   0.   0.   0.   0.   0.   0.   0.   0.\n",
            "   0.   0.   0.   0.   0.   0.   0.   0.   0.   0.   0.   0.   0.   0.\n",
            "   0.   0.   0.   0.   0.   0.   0.   0.   0.   0.   0.   0.   0.   0.\n",
            "   0.   0.   0.   0.   0.   0.   0.   0.   0.   0.   0.   0.   0.   0.\n",
            "   0.   0.   0.   0.   0.   0.   0.   0.   0.   0.   0.   0.   0.   0.\n",
            "   0.   0.   0.   0.   0.   0.   0.   0.   0.   0.   0.   0.   0.   0.\n",
            "   0.   0.   0.   0.   0.   0.   0.   0.   0.   0.   0.   0.   0.   0.\n",
            "   0.   0.   0.   0.   0.   0.   0.   0.   0.   0.   0.   0.   3.  18.\n",
            "  18.  18. 126. 136. 175.  26. 166. 255. 247. 127.   0.   0.   0.   0.\n",
            "   0.   0.   0.   0.   0.   0.   0.   0.  30.  36.  94. 154. 170. 253.\n",
            " 253. 253. 253. 253. 225. 172. 253. 242. 195.  64.   0.   0.   0.   0.\n",
            "   0.   0.   0.   0.   0.   0.   0.  49. 238. 253. 253. 253. 253. 253.\n",
            " 253. 253. 253. 251.  93.  82.  82.  56.  39.   0.   0.   0.   0.   0.\n",
            "   0.   0.   0.   0.   0.   0.   0.  18. 219. 253. 253. 253. 253. 253.\n",
            " 198. 182. 247. 241.   0.   0.   0.   0.   0.   0.   0.   0.   0.   0.\n",
            "   0.   0.   0.   0.   0.   0.   0.   0.  80. 156. 107. 253. 253. 205.\n",
            "  11.   0.  43. 154.   0.   0.   0.   0.   0.   0.   0.   0.   0.   0.\n",
            "   0.   0.   0.   0.   0.   0.   0.   0.   0.  14.   1. 154. 253.  90.\n",
            "   0.   0.   0.   0.   0.   0.   0.   0.   0.   0.   0.   0.   0.   0.\n",
            "   0.   0.   0.   0.   0.   0.   0.   0.   0.   0.   0. 139. 253. 190.\n",
            "   2.   0.   0.   0.   0.   0.   0.   0.   0.   0.   0.   0.   0.   0.\n",
            "   0.   0.   0.   0.   0.   0.   0.   0.   0.   0.   0.  11. 190. 253.\n",
            "  70.   0.   0.   0.   0.   0.   0.   0.   0.   0.   0.   0.   0.   0.\n",
            "   0.   0.   0.   0.   0.   0.   0.   0.   0.   0.   0.   0.  35. 241.\n",
            " 225. 160. 108.   1.   0.   0.   0.   0.   0.   0.   0.   0.   0.   0.\n",
            "   0.   0.   0.   0.   0.   0.   0.   0.   0.   0.   0.   0.   0.  81.\n",
            " 240. 253. 253. 119.  25.   0.   0.   0.   0.   0.   0.   0.   0.   0.\n",
            "   0.   0.   0.   0.   0.   0.   0.   0.   0.   0.   0.   0.   0.   0.\n",
            "  45. 186. 253. 253. 150.  27.   0.   0.   0.   0.   0.   0.   0.   0.\n",
            "   0.   0.   0.   0.   0.   0.   0.   0.   0.   0.   0.   0.   0.   0.\n",
            "   0.  16.  93. 252. 253. 187.   0.   0.   0.   0.   0.   0.   0.   0.\n",
            "   0.   0.   0.   0.   0.   0.   0.   0.   0.   0.   0.   0.   0.   0.\n",
            "   0.   0.   0. 249. 253. 249.  64.   0.   0.   0.   0.   0.   0.   0.\n",
            "   0.   0.   0.   0.   0.   0.   0.   0.   0.   0.   0.   0.   0.   0.\n",
            "  46. 130. 183. 253. 253. 207.   2.   0.   0.   0.   0.   0.   0.   0.\n",
            "   0.   0.   0.   0.   0.   0.   0.   0.   0.   0.   0.   0.  39. 148.\n",
            " 229. 253. 253. 253. 250. 182.   0.   0.   0.   0.   0.   0.   0.   0.\n",
            "   0.   0.   0.   0.   0.   0.   0.   0.   0.   0.  24. 114. 221. 253.\n",
            " 253. 253. 253. 201.  78.   0.   0.   0.   0.   0.   0.   0.   0.   0.\n",
            "   0.   0.   0.   0.   0.   0.   0.   0.  23.  66. 213. 253. 253. 253.\n",
            " 253. 198.  81.   2.   0.   0.   0.   0.   0.   0.   0.   0.   0.   0.\n",
            "   0.   0.   0.   0.   0.   0.  18. 171. 219. 253. 253. 253. 253. 195.\n",
            "  80.   9.   0.   0.   0.   0.   0.   0.   0.   0.   0.   0.   0.   0.\n",
            "   0.   0.   0.   0.  55. 172. 226. 253. 253. 253. 253. 244. 133.  11.\n",
            "   0.   0.   0.   0.   0.   0.   0.   0.   0.   0.   0.   0.   0.   0.\n",
            "   0.   0.   0.   0. 136. 253. 253. 253. 212. 135. 132.  16.   0.   0.\n",
            "   0.   0.   0.   0.   0.   0.   0.   0.   0.   0.   0.   0.   0.   0.\n",
            "   0.   0.   0.   0.   0.   0.   0.   0.   0.   0.   0.   0.   0.   0.\n",
            "   0.   0.   0.   0.   0.   0.   0.   0.   0.   0.   0.   0.   0.   0.\n",
            "   0.   0.   0.   0.   0.   0.   0.   0.   0.   0.   0.   0.   0.   0.\n",
            "   0.   0.   0.   0.   0.   0.   0.   0.   0.   0.   0.   0.   0.   0.\n",
            "   0.   0.   0.   0.   0.   0.   0.   0.   0.   0.   0.   0.   0.   0.\n",
            "   0.   0.   0.   0.   0.   0.   0.   0.   0.   0.   0.   0.   0.   0.]\n",
            "最初のデータ画像\n"
          ],
          "name": "stdout"
        },
        {
          "output_type": "execute_result",
          "data": {
            "text/plain": [
              "<matplotlib.image.AxesImage at 0x7f0750c39898>"
            ]
          },
          "metadata": {
            "tags": []
          },
          "execution_count": 3
        },
        {
          "output_type": "display_data",
          "data": {
            "image/png": "[encoded data removed]",
            "text/plain": [
              "<Figure size 432x288 with 1 Axes>"
            ]
          },
          "metadata": {
            "tags": []
          }
        }
      ]
    },
    {
      "cell_type": "code",
      "metadata": {
        "id": "UTzS3pe3dDRc",
        "colab_type": "code",
        "outputId": "f69a8cfd-b877-4b66-a2a9-2f74869dbd38",
        "colab": {
          "base_uri": "https://localhost:8080/",
          "height": 323
        }
      },
      "source": [
        "X_train, X_test, y_train, y_test = train_test_split(X / 255, # ピクセル値が 0 - 1 になるようにする\n",
        "                                                        y.astype('int64'), # 正解データを数値にする\n",
        "                                                        stratify = y,\n",
        "                                                        random_state=0)\n",
        "print(f'X_train の長さ: {len(X_train)}')\n",
        "print(f'X_test の長さ: {len(X_test)}')\n",
        "print(f'X_train の内容: {X_train}')\n",
        "print(f'X_test の内容: {X_test}')\n",
        "print(f'y_train の内容: {y_train}')\n",
        "print(f'y_test の内容: {y_test}')"
      ],
      "execution_count": 0,
      "outputs": [
        {
          "output_type": "stream",
          "text": [
            "X_train の長さ: 52500\n",
            "X_test の長さ: 17500\n",
            "X_train の内容: [[0. 0. 0. ... 0. 0. 0.]\n",
            " [0. 0. 0. ... 0. 0. 0.]\n",
            " [0. 0. 0. ... 0. 0. 0.]\n",
            " ...\n",
            " [0. 0. 0. ... 0. 0. 0.]\n",
            " [0. 0. 0. ... 0. 0. 0.]\n",
            " [0. 0. 0. ... 0. 0. 0.]]\n",
            "X_test の内容: [[0. 0. 0. ... 0. 0. 0.]\n",
            " [0. 0. 0. ... 0. 0. 0.]\n",
            " [0. 0. 0. ... 0. 0. 0.]\n",
            " ...\n",
            " [0. 0. 0. ... 0. 0. 0.]\n",
            " [0. 0. 0. ... 0. 0. 0.]\n",
            " [0. 0. 0. ... 0. 0. 0.]]\n",
            "y_train の内容: [2 1 2 ... 6 5 5]\n",
            "y_test の内容: [7 2 7 ... 3 7 6]\n"
          ],
          "name": "stdout"
        }
      ]
    },
    {
      "cell_type": "markdown",
      "metadata": {
        "id": "bhQsWxbidhd8",
        "colab_type": "text"
      },
      "source": [
        "scikit-learn でロジスティック回帰"
      ]
    },
    {
      "cell_type": "code",
      "metadata": {
        "id": "l6-3kf_ZdNYV",
        "colab_type": "code",
        "outputId": "615ce1c3-77b1-4d55-c84b-a53ec6f0ccf7",
        "colab": {
          "base_uri": "https://localhost:8080/",
          "height": 224
        }
      },
      "source": [
        "def sklearn_logistic():\n",
        "    clf = LogisticRegression(solver='lbfgs', multi_class='auto')\n",
        "    clf.fit(X_train, y_train) # 学習\n",
        "    print('accuracy_score: %.3f' % clf.score(X_test, y_test)) # 検証\n",
        "%time sklearn_logistic()"
      ],
      "execution_count": 0,
      "outputs": [
        {
          "output_type": "stream",
          "text": [
            "accuracy_score: 0.925\n",
            "CPU times: user 43.1 s, sys: 4.89 s, total: 48 s\n",
            "Wall time: 24.3 s\n"
          ],
          "name": "stdout"
        },
        {
          "output_type": "stream",
          "text": [
            "/usr/local/lib/python3.6/dist-packages/sklearn/linear_model/_logistic.py:940: ConvergenceWarning: lbfgs failed to converge (status=1):\n",
            "STOP: TOTAL NO. of ITERATIONS REACHED LIMIT.\n",
            "\n",
            "Increase the number of iterations (max_iter) or scale the data as shown in:\n",
            "    https://scikit-learn.org/stable/modules/preprocessing.html\n",
            "Please also refer to the documentation for alternative solver options:\n",
            "    https://scikit-learn.org/stable/modules/linear_model.html#logistic-regression\n",
            "  extra_warning_msg=_LOGISTIC_SOLVER_CONVERGENCE_MSG)\n"
          ],
          "name": "stderr"
        }
      ]
    },
    {
      "cell_type": "code",
      "metadata": {
        "id": "ajond9RbrUdj",
        "colab_type": "code",
        "colab": {}
      },
      "source": [
        "%matplotlib inline\n",
        "import matplotlib.pyplot as plt"
      ],
      "execution_count": 0,
      "outputs": []
    },
    {
      "cell_type": "markdown",
      "metadata": {
        "id": "B4H4OLpldlpd",
        "colab_type": "text"
      },
      "source": [
        "scikit-learn で Support Vector Machines (SVC)"
      ]
    },
    {
      "cell_type": "code",
      "metadata": {
        "id": "u5EModL-d2TI",
        "colab_type": "code",
        "colab": {}
      },
      "source": [
        "def sklearn_svc():\n",
        "    clf = SVC(kernel='rbf', gamma='auto', random_state=0, C=2)\n",
        "    clf.fit(X_train, y_train)\n",
        "    print('accuracy_score: %.3f' % clf.score(X_test, y_test))\n",
        "%time sklearn_svc()"
      ],
      "execution_count": 0,
      "outputs": []
    },
    {
      "cell_type": "markdown",
      "metadata": {
        "id": "JgpGGFKAlRnS",
        "colab_type": "text"
      },
      "source": [
        "scikit-learn でニュラルネットワーク"
      ]
    },
    {
      "cell_type": "code",
      "metadata": {
        "id": "QEkdv-r4lVMO",
        "colab_type": "code",
        "outputId": "f0a85376-1962-47d7-b1d2-1a3e62884a5e",
        "colab": {
          "base_uri": "https://localhost:8080/",
          "height": 377
        }
      },
      "source": [
        "def sklearn_mlp():\n",
        "    clf = MLPClassifier(hidden_layer_sizes=(128,), solver='adam', max_iter=15, verbose=10, random_state=0)\n",
        "    clf.fit(X_train, y_train)\n",
        "    print('accuracy_score: %.3f' % clf.score(X_test, y_test))\n",
        "%time sklearn_mlp()"
      ],
      "execution_count": 0,
      "outputs": [
        {
          "output_type": "stream",
          "text": [
            "Iteration 1, loss = 0.42688226\n",
            "Iteration 2, loss = 0.20116195\n",
            "Iteration 3, loss = 0.15006803\n",
            "Iteration 4, loss = 0.11915271\n",
            "Iteration 5, loss = 0.09875778\n",
            "Iteration 6, loss = 0.08330753\n",
            "Iteration 7, loss = 0.07107738\n",
            "Iteration 8, loss = 0.06181587\n",
            "Iteration 9, loss = 0.05333600\n",
            "Iteration 10, loss = 0.04795776\n",
            "Iteration 11, loss = 0.04195001\n",
            "Iteration 12, loss = 0.03634990\n",
            "Iteration 13, loss = 0.03223744\n",
            "Iteration 14, loss = 0.02872861\n",
            "Iteration 15, loss = 0.02420542\n",
            "accuracy_score: 0.976\n",
            "CPU times: user 36.7 s, sys: 12.2 s, total: 49 s\n",
            "Wall time: 24.9 s\n"
          ],
          "name": "stdout"
        },
        {
          "output_type": "stream",
          "text": [
            "/usr/local/lib/python3.6/dist-packages/sklearn/neural_network/_multilayer_perceptron.py:571: ConvergenceWarning: Stochastic Optimizer: Maximum iterations (15) reached and the optimization hasn't converged yet.\n",
            "  % self.max_iter, ConvergenceWarning)\n"
          ],
          "name": "stderr"
        }
      ]
    },
    {
      "cell_type": "markdown",
      "metadata": {
        "id": "tz1gxwaOVdhP",
        "colab_type": "text"
      },
      "source": [
        "ニューラルネットワークの前処理としてスケール変換をする"
      ]
    },
    {
      "cell_type": "code",
      "metadata": {
        "id": "YOFQobbzSvci",
        "colab_type": "code",
        "outputId": "9c3f4108-a105-4a69-a916-d0d06cfbdb12",
        "colab": {
          "base_uri": "https://localhost:8080/",
          "height": 343
        }
      },
      "source": [
        "from sklearn.preprocessing import MinMaxScaler\n",
        "scaler=MinMaxScaler()\n",
        "scaler.fit(X_train)\n",
        "X_train_scaled=scaler.transform(X_train)\n",
        "X_test_scaled=scaler.transform(X_test)\n",
        "\n",
        "clf = MLPClassifier(hidden_layer_sizes=(128,), solver='adam', max_iter=15, verbose=10, random_state=0)\n",
        "clf.fit(X_train_scaled, y_train)\n",
        "\n",
        "print(\"Scaled test set accuracy:{:.2f}\".format(\n",
        "    clf.score(X_test_scaled, y_test)))"
      ],
      "execution_count": 0,
      "outputs": [
        {
          "output_type": "stream",
          "text": [
            "Iteration 1, loss = 0.42691675\n",
            "Iteration 2, loss = 0.20120201\n",
            "Iteration 3, loss = 0.14999649\n",
            "Iteration 4, loss = 0.11917003\n",
            "Iteration 5, loss = 0.09871456\n",
            "Iteration 6, loss = 0.08326198\n",
            "Iteration 7, loss = 0.07108888\n",
            "Iteration 8, loss = 0.06184526\n",
            "Iteration 9, loss = 0.05327691\n",
            "Iteration 10, loss = 0.04782577\n",
            "Iteration 11, loss = 0.04190793\n",
            "Iteration 12, loss = 0.03615788\n",
            "Iteration 13, loss = 0.03219960\n",
            "Iteration 14, loss = 0.02865238\n",
            "Iteration 15, loss = 0.02422943\n",
            "Scaled test set accuracy:0.98\n"
          ],
          "name": "stdout"
        },
        {
          "output_type": "stream",
          "text": [
            "/usr/local/lib/python3.6/dist-packages/sklearn/neural_network/_multilayer_perceptron.py:571: ConvergenceWarning: Stochastic Optimizer: Maximum iterations (15) reached and the optimization hasn't converged yet.\n",
            "  % self.max_iter, ConvergenceWarning)\n"
          ],
          "name": "stderr"
        }
      ]
    }
  ]
}