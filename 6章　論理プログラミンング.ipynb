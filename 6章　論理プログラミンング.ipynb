{
  "nbformat": 4,
  "nbformat_minor": 0,
  "metadata": {
    "colab": {
      "name": "6章　論理プログラミンング",
      "provenance": [],
      "collapsed_sections": [],
      "authorship_tag": "ABX9TyP+EW8sFl1CQUPyDjtf6TEO",
      "include_colab_link": true
    },
    "kernelspec": {
      "name": "python3",
      "display_name": "Python 3"
    }
  },
  "cells": [
    {
      "cell_type": "markdown",
      "metadata": {
        "id": "view-in-github",
        "colab_type": "text"
      },
      "source": [
        "<a href=\"https://colab.research.google.com/github/opticalcode/Hachioji-AI-biginner/blob/master/6%E7%AB%A0%E3%80%80%E8%AB%96%E7%90%86%E3%83%97%E3%83%AD%E3%82%B0%E3%83%A9%E3%83%9F%E3%83%B3%E3%83%B3%E3%82%B0.ipynb\" target=\"_parent\"><img src=\"https://colab.research.google.com/assets/colab-badge.svg\" alt=\"Open In Colab\"/></a>"
      ]
    },
    {
      "cell_type": "markdown",
      "metadata": {
        "id": "qhrpEZxVRNZq",
        "colab_type": "text"
      },
      "source": [
        "学ぶ事\n",
        "* 論理プログラミング\n",
        "* 論理プログラミングの構成\n",
        "* 論理プログラミングによる問題解決\n",
        "* 論理プログラミング用のパッケージのインストール\n",
        "* 数式の確定\n",
        "* 素数判定\n",
        "* 地理の解析\n",
        "* パズルの解法"
      ]
    },
    {
      "cell_type": "code",
      "metadata": {
        "id": "LU0jy-EseTdt",
        "colab_type": "code",
        "colab": {
          "base_uri": "https://localhost:8080/",
          "height": 35
        },
        "outputId": "1f1e129a-e192-4184-bc63-d7e904d0ac91"
      },
      "source": [
        "# Google driveをマウントする\n",
        "from google.colab import drive\n",
        "drive.mount('/content/drive')"
      ],
      "execution_count": 1,
      "outputs": [
        {
          "output_type": "stream",
          "text": [
            "Drive already mounted at /content/drive; to attempt to forcibly remount, call drive.mount(\"/content/drive\", force_remount=True).\n"
          ],
          "name": "stdout"
        }
      ]
    },
    {
      "cell_type": "markdown",
      "metadata": {
        "id": "XuPoQywgSDmv",
        "colab_type": "text"
      },
      "source": [
        "6.1 論理プログラミングとは\n",
        "* 論理プログラミングは、プログラミングのパラダイム（プログラミングの構成や方法について考え方の枠組み）のひとつです。\n",
        "\n",
        "\n",
        "```\n",
        "主要なプログラミングパラダイム\n",
        "```\n",
        "\n",
        "\n",
        "* 命令型　プログラミングの状態を変更する文を用いるもので、副作用を許容します。\n",
        "* 関数型　計算を数学的な関数を評価することとみなし、状態の変化や変更可能なデータを許容しません。\n",
        "* オブジェクト指向　各オブジェクトが自律するようにコードをまとめます。オブジェクトにはデータと、データの変更を規定するメソッドが格納されます。\n",
        "* 手続き型　コードを関数にまとめ、各関数はある特定の処理手順を担当します。\n",
        "* 記号型　プログラミングが自分自身をデータとして扱って変更可能とする構文形式や文法を持ちます。\n",
        "* 論理型　事実と推論規則から構成される知識データベースの上で自動推論することによって計算を行います。\n",
        "\n",
        "\n",
        "```\n",
        "論理プログラミンの計算概念\n",
        "23+12+49 ⇨ (2+1+4)✖️10 + (3+2+9)\n",
        "         ⇨ (2+1+4+1)✖️ 10+4\n",
        "         ⇨ 84\n",
        "```\n",
        "\n",
        "\n",
        "\n",
        "\n",
        "\n"
      ]
    },
    {
      "cell_type": "markdown",
      "metadata": {
        "id": "PPvSD14TW2lR",
        "colab_type": "text"
      },
      "source": [
        "6.2 論理プログラミンングの構成要素\n",
        "* 単一化（unification)　インスタンス化していない変数を渡すと\n",
        "ユーザーが定義した事実に基づいて、インタプリタが変数をインスタンス化する。\n",
        "\n",
        "```\n",
        "foo(1)という事実があり、foo(X)と未束縛の変数Xを渡すと、単一化によってX=1となる、\n",
        "```\n",
        "* 事実　処理中のプログラムとデータ上で真となる文のこと。\n",
        "* 推論規則 \n",
        "\n"
      ]
    },
    {
      "cell_type": "markdown",
      "metadata": {
        "id": "_rMwA63rgV09",
        "colab_type": "text"
      },
      "source": [
        "6.3 論理プログラミングを用いた問題解決法"
      ]
    },
    {
      "cell_type": "markdown",
      "metadata": {
        "id": "giThyvA_l7Ua",
        "colab_type": "text"
      },
      "source": [
        "6.4 Pythonパッケージのインストール"
      ]
    },
    {
      "cell_type": "code",
      "metadata": {
        "id": "u_gZYz4gmEtu",
        "colab_type": "code",
        "outputId": "c2154eb5-0af7-4d12-9798-8cb8d2443b38",
        "colab": {
          "base_uri": "https://localhost:8080/",
          "height": 107
        }
      },
      "source": [
        "pip install kanren"
      ],
      "execution_count": 2,
      "outputs": [
        {
          "output_type": "stream",
          "text": [
            "Requirement already satisfied: kanren in /usr/local/lib/python3.6/dist-packages (0.2.3)\n",
            "Requirement already satisfied: unification in /usr/local/lib/python3.6/dist-packages (from kanren) (0.2.2)\n",
            "Requirement already satisfied: multipledispatch in /usr/local/lib/python3.6/dist-packages (from kanren) (0.6.0)\n",
            "Requirement already satisfied: toolz in /usr/local/lib/python3.6/dist-packages (from kanren) (0.10.0)\n",
            "Requirement already satisfied: six in /usr/local/lib/python3.6/dist-packages (from multipledispatch->kanren) (1.12.0)\n"
          ],
          "name": "stdout"
        }
      ]
    },
    {
      "cell_type": "code",
      "metadata": {
        "id": "aqzSWdDjmXVA",
        "colab_type": "code",
        "outputId": "9e123b46-2aa5-4ee8-c1ec-64bb8c00ae3b",
        "colab": {
          "base_uri": "https://localhost:8080/",
          "height": 53
        }
      },
      "source": [
        "pip install sympy"
      ],
      "execution_count": 3,
      "outputs": [
        {
          "output_type": "stream",
          "text": [
            "Requirement already satisfied: sympy in /usr/local/lib/python3.6/dist-packages (1.1.1)\n",
            "Requirement already satisfied: mpmath>=0.19 in /usr/local/lib/python3.6/dist-packages (from sympy) (1.1.0)\n"
          ],
          "name": "stdout"
        }
      ]
    },
    {
      "cell_type": "markdown",
      "metadata": {
        "id": "TkFIQwCxGb8X",
        "colab_type": "text"
      },
      "source": [
        "6.5 数式の照合\n",
        "\n",
        "\n",
        "```\n",
        "expression_orig = 3 * (-2) + (1+2 * 3) * (-1)\n",
        "上記の式から以下の3つの式を照合し、変数（a,b,c）を求める。\n",
        "\n",
        "expression1 = (1+2*a) * b + 3 * c\n",
        "expression2 = c * 3 + b * (2 * a + 1)\n",
        "expression3 = (((2 * a) * b) + 3 * c\n",
        "```\n",
        "\n"
      ]
    },
    {
      "cell_type": "code",
      "metadata": {
        "id": "m44p1s68mks9",
        "colab_type": "code",
        "colab": {}
      },
      "source": [
        "from kanren import run, var, fact\n",
        "import kanren.assoccomm as la"
      ],
      "execution_count": 0,
      "outputs": []
    },
    {
      "cell_type": "code",
      "metadata": {
        "id": "DiWpki2OnNsW",
        "colab_type": "code",
        "colab": {}
      },
      "source": [
        "add = 'addition'\n",
        "mul = 'multiplication'"
      ],
      "execution_count": 0,
      "outputs": []
    },
    {
      "cell_type": "code",
      "metadata": {
        "id": "1n-0VKDMnXZB",
        "colab_type": "code",
        "colab": {}
      },
      "source": [
        "fact(la.commutative, mul)\n",
        "fact(la.commutative, add)\n",
        "fact(la.associative, mul)\n",
        "fact(la.associative, add)"
      ],
      "execution_count": 0,
      "outputs": []
    },
    {
      "cell_type": "code",
      "metadata": {
        "id": "9HWbpVtGn1bb",
        "colab_type": "code",
        "colab": {}
      },
      "source": [
        "a, b, c = var('a'), var('b'), var('c')"
      ],
      "execution_count": 0,
      "outputs": []
    },
    {
      "cell_type": "code",
      "metadata": {
        "id": "qhOdgEdjoffG",
        "colab_type": "code",
        "colab": {}
      },
      "source": [
        "expression_orig = (add,(mul, 3, -2),(mul, (add, 1, (mul, 2, 3)), -1))\n",
        "expression1 = (add, (mul, (add, 1, (mul, 2, a)), b), (mul, 3, c))\n",
        "expression2 = (add, (mul, c, 3), (mul, b, (add, (mul, 2, a),1)))\n",
        "expression3 = (add, (add, (mul, (mul, 2, a), b), b), (mul, 3, c))"
      ],
      "execution_count": 0,
      "outputs": []
    },
    {
      "cell_type": "code",
      "metadata": {
        "id": "OUNDeYp1pz93",
        "colab_type": "code",
        "outputId": "783c851f-21ef-4740-9a8d-ad85cb457eca",
        "colab": {
          "base_uri": "https://localhost:8080/",
          "height": 71
        }
      },
      "source": [
        "print(run(0, (a, b, c), la.eq_assoccomm(expression1, expression_orig)))\n",
        "print(run(0, (a, b, c), la.eq_assoccomm(expression2, expression_orig)))\n",
        "print(run(0, (a, b, c), la.eq_assoccomm(expression3, expression_orig)))"
      ],
      "execution_count": 9,
      "outputs": [
        {
          "output_type": "stream",
          "text": [
            "((3, -1, -2),)\n",
            "((3, -1, -2),)\n",
            "()\n"
          ],
          "name": "stdout"
        }
      ]
    },
    {
      "cell_type": "markdown",
      "metadata": {
        "id": "peZLzTW8JP4B",
        "colab_type": "text"
      },
      "source": [
        "6.6 素数の判定(1000個の素数を表示）"
      ]
    },
    {
      "cell_type": "code",
      "metadata": {
        "id": "6FP4MuBaJaa8",
        "colab_type": "code",
        "colab": {}
      },
      "source": [
        "import itertools as it\n",
        "from kanren import isvar, membero, var, run, eq\n",
        "from kanren.core import success, fail, condeseq\n",
        "from sympy.ntheory.generate import prime, isprime"
      ],
      "execution_count": 0,
      "outputs": []
    },
    {
      "cell_type": "code",
      "metadata": {
        "id": "eGIGBlfHKLtL",
        "colab_type": "code",
        "colab": {}
      },
      "source": [
        "# xが素数かどうか判定する\n",
        "def check_prime(x):\n",
        "    if isvar(x):\n",
        "        return condeseq([eq(x, p)] for p in map(prime, it.count(1)))\n",
        "\n",
        "    else:\n",
        "        return success if isprime(x) else fail    "
      ],
      "execution_count": 0,
      "outputs": []
    },
    {
      "cell_type": "code",
      "metadata": {
        "id": "2hXp64hdK1Ly",
        "colab_type": "code",
        "colab": {}
      },
      "source": [
        "#　変数xを宣言します。\n",
        "x = var()"
      ],
      "execution_count": 0,
      "outputs": []
    },
    {
      "cell_type": "code",
      "metadata": {
        "id": "fBjOUFz5LKbK",
        "colab_type": "code",
        "outputId": "80b24231-1a68-4676-db14-bbe0eddfa5bb",
        "colab": {
          "base_uri": "https://localhost:8080/",
          "height": 53
        }
      },
      "source": [
        "list_nums = (23, 4, 27, 17, 13, 10, 21, 29, 3, 32, 11, 19)\n",
        "print('List of prime in the list:')\n",
        "print(set(run(0, x, (membero, x, list_nums), (check_prime, x))))"
      ],
      "execution_count": 13,
      "outputs": [
        {
          "output_type": "stream",
          "text": [
            "List of prime in the list:\n",
            "{3, 11, 13, 17, 19, 23, 29}\n"
          ],
          "name": "stdout"
        }
      ]
    },
    {
      "cell_type": "code",
      "metadata": {
        "id": "kroM4KjpLxbv",
        "colab_type": "code",
        "outputId": "173804ee-d007-4586-d0d9-9653bebe77e3",
        "colab": {
          "base_uri": "https://localhost:8080/",
          "height": 73
        }
      },
      "source": [
        "print('List of first 1000 prime numbers:')\n",
        "print(run(1000, x, (check_prime, x)))"
      ],
      "execution_count": 14,
      "outputs": [
        {
          "output_type": "stream",
          "text": [
            "List of first 1000 prime numbers:\n",
            "(2, 3, 5, 7, 11, 13, 17, 19, 23, 29, 31, 37, 41, 43, 47, 53, 59, 61, 67, 71, 73, 79, 83, 89, 97, 101, 103, 107, 109, 113, 127, 131, 137, 139, 149, 151, 157, 163, 167, 173, 179, 181, 191, 193, 197, 199, 211, 223, 227, 229, 233, 239, 241, 251, 257, 263, 269, 271, 277, 281, 283, 293, 307, 311, 313, 317, 331, 337, 347, 349, 353, 359, 367, 373, 379, 383, 389, 397, 401, 409, 419, 421, 431, 433, 439, 443, 449, 457, 461, 463, 467, 479, 487, 491, 499, 503, 509, 521, 523, 541, 547, 557, 563, 569, 571, 577, 587, 593, 599, 601, 607, 613, 617, 619, 631, 641, 643, 647, 653, 659, 661, 673, 677, 683, 691, 701, 709, 719, 727, 733, 739, 743, 751, 757, 761, 769, 773, 787, 797, 809, 811, 821, 823, 827, 829, 839, 853, 857, 859, 863, 877, 881, 883, 887, 907, 911, 919, 929, 937, 941, 947, 953, 967, 971, 977, 983, 991, 997, 1009, 1013, 1019, 1021, 1031, 1033, 1039, 1049, 1051, 1061, 1063, 1069, 1087, 1091, 1093, 1097, 1103, 1109, 1117, 1123, 1129, 1151, 1153, 1163, 1171, 1181, 1187, 1193, 1201, 1213, 1217, 1223, 1229, 1231, 1237, 1249, 1259, 1277, 1279, 1283, 1289, 1291, 1297, 1301, 1303, 1307, 1319, 1321, 1327, 1361, 1367, 1373, 1381, 1399, 1409, 1423, 1427, 1429, 1433, 1439, 1447, 1451, 1453, 1459, 1471, 1481, 1483, 1487, 1489, 1493, 1499, 1511, 1523, 1531, 1543, 1549, 1553, 1559, 1567, 1571, 1579, 1583, 1597, 1601, 1607, 1609, 1613, 1619, 1621, 1627, 1637, 1657, 1663, 1667, 1669, 1693, 1697, 1699, 1709, 1721, 1723, 1733, 1741, 1747, 1753, 1759, 1777, 1783, 1787, 1789, 1801, 1811, 1823, 1831, 1847, 1861, 1867, 1871, 1873, 1877, 1879, 1889, 1901, 1907, 1913, 1931, 1933, 1949, 1951, 1973, 1979, 1987, 1993, 1997, 1999, 2003, 2011, 2017, 2027, 2029, 2039, 2053, 2063, 2069, 2081, 2083, 2087, 2089, 2099, 2111, 2113, 2129, 2131, 2137, 2141, 2143, 2153, 2161, 2179, 2203, 2207, 2213, 2221, 2237, 2239, 2243, 2251, 2267, 2269, 2273, 2281, 2287, 2293, 2297, 2309, 2311, 2333, 2339, 2341, 2347, 2351, 2357, 2371, 2377, 2381, 2383, 2389, 2393, 2399, 2411, 2417, 2423, 2437, 2441, 2447, 2459, 2467, 2473, 2477, 2503, 2521, 2531, 2539, 2543, 2549, 2551, 2557, 2579, 2591, 2593, 2609, 2617, 2621, 2633, 2647, 2657, 2659, 2663, 2671, 2677, 2683, 2687, 2689, 2693, 2699, 2707, 2711, 2713, 2719, 2729, 2731, 2741, 2749, 2753, 2767, 2777, 2789, 2791, 2797, 2801, 2803, 2819, 2833, 2837, 2843, 2851, 2857, 2861, 2879, 2887, 2897, 2903, 2909, 2917, 2927, 2939, 2953, 2957, 2963, 2969, 2971, 2999, 3001, 3011, 3019, 3023, 3037, 3041, 3049, 3061, 3067, 3079, 3083, 3089, 3109, 3119, 3121, 3137, 3163, 3167, 3169, 3181, 3187, 3191, 3203, 3209, 3217, 3221, 3229, 3251, 3253, 3257, 3259, 3271, 3299, 3301, 3307, 3313, 3319, 3323, 3329, 3331, 3343, 3347, 3359, 3361, 3371, 3373, 3389, 3391, 3407, 3413, 3433, 3449, 3457, 3461, 3463, 3467, 3469, 3491, 3499, 3511, 3517, 3527, 3529, 3533, 3539, 3541, 3547, 3557, 3559, 3571, 3581, 3583, 3593, 3607, 3613, 3617, 3623, 3631, 3637, 3643, 3659, 3671, 3673, 3677, 3691, 3697, 3701, 3709, 3719, 3727, 3733, 3739, 3761, 3767, 3769, 3779, 3793, 3797, 3803, 3821, 3823, 3833, 3847, 3851, 3853, 3863, 3877, 3881, 3889, 3907, 3911, 3917, 3919, 3923, 3929, 3931, 3943, 3947, 3967, 3989, 4001, 4003, 4007, 4013, 4019, 4021, 4027, 4049, 4051, 4057, 4073, 4079, 4091, 4093, 4099, 4111, 4127, 4129, 4133, 4139, 4153, 4157, 4159, 4177, 4201, 4211, 4217, 4219, 4229, 4231, 4241, 4243, 4253, 4259, 4261, 4271, 4273, 4283, 4289, 4297, 4327, 4337, 4339, 4349, 4357, 4363, 4373, 4391, 4397, 4409, 4421, 4423, 4441, 4447, 4451, 4457, 4463, 4481, 4483, 4493, 4507, 4513, 4517, 4519, 4523, 4547, 4549, 4561, 4567, 4583, 4591, 4597, 4603, 4621, 4637, 4639, 4643, 4649, 4651, 4657, 4663, 4673, 4679, 4691, 4703, 4721, 4723, 4729, 4733, 4751, 4759, 4783, 4787, 4789, 4793, 4799, 4801, 4813, 4817, 4831, 4861, 4871, 4877, 4889, 4903, 4909, 4919, 4931, 4933, 4937, 4943, 4951, 4957, 4967, 4969, 4973, 4987, 4993, 4999, 5003, 5009, 5011, 5021, 5023, 5039, 5051, 5059, 5077, 5081, 5087, 5099, 5101, 5107, 5113, 5119, 5147, 5153, 5167, 5171, 5179, 5189, 5197, 5209, 5227, 5231, 5233, 5237, 5261, 5273, 5279, 5281, 5297, 5303, 5309, 5323, 5333, 5347, 5351, 5381, 5387, 5393, 5399, 5407, 5413, 5417, 5419, 5431, 5437, 5441, 5443, 5449, 5471, 5477, 5479, 5483, 5501, 5503, 5507, 5519, 5521, 5527, 5531, 5557, 5563, 5569, 5573, 5581, 5591, 5623, 5639, 5641, 5647, 5651, 5653, 5657, 5659, 5669, 5683, 5689, 5693, 5701, 5711, 5717, 5737, 5741, 5743, 5749, 5779, 5783, 5791, 5801, 5807, 5813, 5821, 5827, 5839, 5843, 5849, 5851, 5857, 5861, 5867, 5869, 5879, 5881, 5897, 5903, 5923, 5927, 5939, 5953, 5981, 5987, 6007, 6011, 6029, 6037, 6043, 6047, 6053, 6067, 6073, 6079, 6089, 6091, 6101, 6113, 6121, 6131, 6133, 6143, 6151, 6163, 6173, 6197, 6199, 6203, 6211, 6217, 6221, 6229, 6247, 6257, 6263, 6269, 6271, 6277, 6287, 6299, 6301, 6311, 6317, 6323, 6329, 6337, 6343, 6353, 6359, 6361, 6367, 6373, 6379, 6389, 6397, 6421, 6427, 6449, 6451, 6469, 6473, 6481, 6491, 6521, 6529, 6547, 6551, 6553, 6563, 6569, 6571, 6577, 6581, 6599, 6607, 6619, 6637, 6653, 6659, 6661, 6673, 6679, 6689, 6691, 6701, 6703, 6709, 6719, 6733, 6737, 6761, 6763, 6779, 6781, 6791, 6793, 6803, 6823, 6827, 6829, 6833, 6841, 6857, 6863, 6869, 6871, 6883, 6899, 6907, 6911, 6917, 6947, 6949, 6959, 6961, 6967, 6971, 6977, 6983, 6991, 6997, 7001, 7013, 7019, 7027, 7039, 7043, 7057, 7069, 7079, 7103, 7109, 7121, 7127, 7129, 7151, 7159, 7177, 7187, 7193, 7207, 7211, 7213, 7219, 7229, 7237, 7243, 7247, 7253, 7283, 7297, 7307, 7309, 7321, 7331, 7333, 7349, 7351, 7369, 7393, 7411, 7417, 7433, 7451, 7457, 7459, 7477, 7481, 7487, 7489, 7499, 7507, 7517, 7523, 7529, 7537, 7541, 7547, 7549, 7559, 7561, 7573, 7577, 7583, 7589, 7591, 7603, 7607, 7621, 7639, 7643, 7649, 7669, 7673, 7681, 7687, 7691, 7699, 7703, 7717, 7723, 7727, 7741, 7753, 7757, 7759, 7789, 7793, 7817, 7823, 7829, 7841, 7853, 7867, 7873, 7877, 7879, 7883, 7901, 7907, 7919)\n"
          ],
          "name": "stdout"
        }
      ]
    },
    {
      "cell_type": "markdown",
      "metadata": {
        "id": "uqiQCOotTTu8",
        "colab_type": "text"
      },
      "source": [
        "6.7 家系図の解析\n",
        "* johnとMeganには、William、David、Adamという息子がいる。\n",
        "* William、David、Adamの妻は、それぞれ"
      ]
    },
    {
      "cell_type": "code",
      "metadata": {
        "id": "LABjHZ78fvUx",
        "colab_type": "code",
        "colab": {}
      },
      "source": [
        "import json\n",
        "from kanren import Relation, facts, run, conde, var, eq"
      ],
      "execution_count": 0,
      "outputs": []
    },
    {
      "cell_type": "code",
      "metadata": {
        "id": "-jWma8q5gCHZ",
        "colab_type": "code",
        "colab": {}
      },
      "source": [
        "with open('/content/drive/My Drive/artificial-intelligence-with-python-ja-master/Chapter6/relationships.json') as f:\n",
        "    d = json.loads(f.read())"
      ],
      "execution_count": 0,
      "outputs": []
    },
    {
      "cell_type": "code",
      "metadata": {
        "id": "T6xPQCXXhy73",
        "colab_type": "code",
        "colab": {}
      },
      "source": [
        "father = Relation()\n",
        "mother = Relation()\n",
        "\n",
        "for item in d['father']:\n",
        "    facts(father, (list(item.keys())[0], list(item.values())[0]))\n",
        "\n",
        "for item in d['mother']:\n",
        "    facts(mother, (list(item.keys())[0], list(item.values())[0]))    "
      ],
      "execution_count": 0,
      "outputs": []
    },
    {
      "cell_type": "code",
      "metadata": {
        "id": "9Aa40Uf9i1aU",
        "colab_type": "code",
        "colab": {}
      },
      "source": [
        "def parent(x, y):\n",
        "    return conde((father(x, y),), (mother(x, y),))"
      ],
      "execution_count": 0,
      "outputs": []
    },
    {
      "cell_type": "code",
      "metadata": {
        "id": "bSlkOvXhjYIa",
        "colab_type": "code",
        "colab": {}
      },
      "source": [
        "def grandparent(x, y):\n",
        "    temp = var()\n",
        "    return conde ((parent(x, temp), parent(temp, y)))"
      ],
      "execution_count": 0,
      "outputs": []
    },
    {
      "cell_type": "code",
      "metadata": {
        "id": "xn6vFAjTlCxt",
        "colab_type": "code",
        "colab": {}
      },
      "source": [
        "def sibling(x, y):\n",
        "    temp = var()\n",
        "    return conde((parent(temp, x), parent(temp, y)))"
      ],
      "execution_count": 0,
      "outputs": []
    },
    {
      "cell_type": "code",
      "metadata": {
        "id": "5kR7sZ1Uj1Ep",
        "colab_type": "code",
        "colab": {}
      },
      "source": [
        "def uncle(x, y):\n",
        "    temp = var()\n",
        "    return conde((father(temp, x), grandparent(temp, y)))"
      ],
      "execution_count": 0,
      "outputs": []
    },
    {
      "cell_type": "code",
      "metadata": {
        "id": "EGtozf3lkJE3",
        "colab_type": "code",
        "colab": {
          "base_uri": "https://localhost:8080/",
          "height": 71
        },
        "outputId": "eaea0c47-844e-4eb7-ccaf-d46943891e7c"
      },
      "source": [
        "x = var()\n",
        "output = run(0, x, (father, 'John', x))\n",
        "for item in output:\n",
        "    print(item)"
      ],
      "execution_count": 22,
      "outputs": [
        {
          "output_type": "stream",
          "text": [
            "David\n",
            "Adam\n",
            "William\n"
          ],
          "name": "stdout"
        }
      ]
    },
    {
      "cell_type": "code",
      "metadata": {
        "id": "PSwCLmMym6Vm",
        "colab_type": "code",
        "colab": {
          "base_uri": "https://localhost:8080/",
          "height": 35
        },
        "outputId": "e4bde3f4-efa6-45a1-bf53-bfb0d15922d3"
      },
      "source": [
        "output = run(0, x, (mother, x, 'William'))\n",
        "for item in output:\n",
        "    print(item)"
      ],
      "execution_count": 23,
      "outputs": [
        {
          "output_type": "stream",
          "text": [
            "Megan\n"
          ],
          "name": "stdout"
        }
      ]
    },
    {
      "cell_type": "code",
      "metadata": {
        "id": "AbBci7txnw7z",
        "colab_type": "code",
        "colab": {
          "base_uri": "https://localhost:8080/",
          "height": 53
        },
        "outputId": "eb4f9e73-09da-416e-e0ba-089f4c6634ca"
      },
      "source": [
        "output = run(0, x, parent(x, 'Adam'))\n",
        "for item in output:\n",
        "    print(item)"
      ],
      "execution_count": 24,
      "outputs": [
        {
          "output_type": "stream",
          "text": [
            "John\n",
            "Megan\n"
          ],
          "name": "stdout"
        }
      ]
    },
    {
      "cell_type": "code",
      "metadata": {
        "id": "apM989h_nKvU",
        "colab_type": "code",
        "colab": {
          "base_uri": "https://localhost:8080/",
          "height": 53
        },
        "outputId": "33fb07b8-75fb-40eb-e8fb-e512d5a09f01"
      },
      "source": [
        "output = run(0, x, grandparent(x, 'Wayne'))\n",
        "for item in output:\n",
        "    print(item)"
      ],
      "execution_count": 25,
      "outputs": [
        {
          "output_type": "stream",
          "text": [
            "Megan\n",
            "John\n"
          ],
          "name": "stdout"
        }
      ]
    },
    {
      "cell_type": "code",
      "metadata": {
        "id": "DWkUdDSonm3C",
        "colab_type": "code",
        "colab": {
          "base_uri": "https://localhost:8080/",
          "height": 161
        },
        "outputId": "80f4f722-d686-4f8f-f946-5751bd1d64dd"
      },
      "source": [
        "output = run(0, x, grandparent('Megan', x))\n",
        "for item in output:\n",
        "   print(item)"
      ],
      "execution_count": 26,
      "outputs": [
        {
          "output_type": "stream",
          "text": [
            "Stephanie\n",
            "Wayne\n",
            "Sophia\n",
            "Chris\n",
            "Neil\n",
            "Tiffany\n",
            "Peter\n",
            "Julie\n"
          ],
          "name": "stdout"
        }
      ]
    },
    {
      "cell_type": "code",
      "metadata": {
        "id": "S-BJaAC6os2a",
        "colab_type": "code",
        "colab": {
          "base_uri": "https://localhost:8080/",
          "height": 53
        },
        "outputId": "28ccedd0-a3eb-477a-df01-2df4bce09532"
      },
      "source": [
        "name = 'David'\n",
        "output = run(0, x, sibling(x, name))\n",
        "#　本人を除去する\n",
        "siblings = [x for x in output if x != name]\n",
        "for item in siblings:\n",
        "    print(item)"
      ],
      "execution_count": 27,
      "outputs": [
        {
          "output_type": "stream",
          "text": [
            "William\n",
            "Adam\n"
          ],
          "name": "stdout"
        }
      ]
    },
    {
      "cell_type": "code",
      "metadata": {
        "id": "swMquDpNssez",
        "colab_type": "code",
        "colab": {
          "base_uri": "https://localhost:8080/",
          "height": 53
        },
        "outputId": "0b1db61a-a6c8-4b87-ae41-0dbfff20bf90"
      },
      "source": [
        "name = 'Tiffany'\n",
        "# 父親の名前を求める\n",
        "name_father = run(0, x, father(x, name))[0]\n",
        "output = run(0, x, uncle(x, name))\n",
        "# 父親を除去する\n",
        "output = [x for x in output if x !=name_father]\n",
        "for item in output:\n",
        "    print(item)"
      ],
      "execution_count": 28,
      "outputs": [
        {
          "output_type": "stream",
          "text": [
            "William\n",
            "Adam\n"
          ],
          "name": "stdout"
        }
      ]
    },
    {
      "cell_type": "code",
      "metadata": {
        "id": "zqMtv0P2tmtz",
        "colab_type": "code",
        "colab": {
          "base_uri": "https://localhost:8080/",
          "height": 89
        },
        "outputId": "0bce5018-8f41-4b3d-c016-be39f61fa31e"
      },
      "source": [
        "a, b, c = var(), var(), var()\n",
        "output = run(0, (a, b), father(a, c), mother(b, c))\n",
        "for item in output:\n",
        "    print('Husband:', item[0], '<==> Wife', item[1])"
      ],
      "execution_count": 29,
      "outputs": [
        {
          "output_type": "stream",
          "text": [
            "Husband: David <==> Wife Olivia\n",
            "Husband: William <==> Wife Emma\n",
            "Husband: John <==> Wife Megan\n",
            "Husband: Adam <==> Wife Lily\n"
          ],
          "name": "stdout"
        }
      ]
    },
    {
      "cell_type": "markdown",
      "metadata": {
        "id": "bpr_6lFHw0QY",
        "colab_type": "text"
      },
      "source": [
        "6.8 地理の解析"
      ]
    },
    {
      "cell_type": "code",
      "metadata": {
        "id": "9enLxL_wy0Tk",
        "colab_type": "code",
        "colab": {}
      },
      "source": [
        "from kanren import run, fact, eq, Relation, var"
      ],
      "execution_count": 0,
      "outputs": []
    },
    {
      "cell_type": "code",
      "metadata": {
        "id": "XuQXf2Bzy-nm",
        "colab_type": "code",
        "colab": {}
      },
      "source": [
        "coastal = Relation()\n",
        "adjacent = Relation()"
      ],
      "execution_count": 0,
      "outputs": []
    },
    {
      "cell_type": "code",
      "metadata": {
        "id": "7-rg72l_zN-F",
        "colab_type": "code",
        "colab": {}
      },
      "source": [
        "file_coastal = '/content/drive/My Drive/artificial-intelligence-with-python-ja-master/Chapter6/coastal_states.txt'\n",
        "with open(file_coastal, 'r') as f:\n",
        "    line = f.read()\n",
        "    coastal_states = line.split(',')\n",
        "\n",
        "for state in coastal_states:\n",
        "     fact(coastal, state)   "
      ],
      "execution_count": 0,
      "outputs": []
    }
  ]
}