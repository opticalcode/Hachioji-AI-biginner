{
  "nbformat": 4,
  "nbformat_minor": 0,
  "metadata": {
    "colab": {
      "name": "単層ニューラルネットによる画像分類【tf2 keras】",
      "provenance": []
    },
    "kernelspec": {
      "name": "python3",
      "display_name": "Python 3"
    },
    "accelerator": "GPU"
  },
  "cells": [
    {
      "cell_type": "code",
      "metadata": {
        "id": "j9E_itaph2eS",
        "colab_type": "code",
        "colab": {
          "base_uri": "https://localhost:8080/",
          "height": 34
        },
        "outputId": "00b53cf6-716d-4b7e-bac9-da61b90f2391"
      },
      "source": [
        "#このコードはGoogle Colabの環境でTensorFlow2のライブラリーを使用するためのコードです。\n",
        "try:\n",
        "  %tensorflow_version 2.x\n",
        "except Exception:\n",
        "  pass"
      ],
      "execution_count": 1,
      "outputs": [
        {
          "output_type": "stream",
          "text": [
            "TensorFlow 2.x selected.\n"
          ],
          "name": "stdout"
        }
      ]
    },
    {
      "cell_type": "code",
      "metadata": {
        "id": "_4-NzK54iBLC",
        "colab_type": "code",
        "colab": {}
      },
      "source": [
        "#単層ニューラルネットを用いた画像分類器を作成し、正解率を検証します。\n",
        "import numpy as np\n",
        "from tensorflow.keras.models import Sequential\n",
        "from tensorflow.keras.layers import Dense, Flatten\n",
        "from tensorflow.keras.optimizers import SGD\n",
        "from tensorflow.keras.datasets import mnist"
      ],
      "execution_count": 0,
      "outputs": []
    },
    {
      "cell_type": "code",
      "metadata": {
        "id": "FW0udKuQi-p0",
        "colab_type": "code",
        "colab": {
          "base_uri": "https://localhost:8080/",
          "height": 51
        },
        "outputId": "cd357f2e-b21c-4d32-af6c-3e6fe168d2c8"
      },
      "source": [
        "#MNISTの画像データを訓練データと検証データを分けて格納します。\n",
        "(x_train, y_train),(x_test, y_test)=mnist.load_data()"
      ],
      "execution_count": 3,
      "outputs": [
        {
          "output_type": "stream",
          "text": [
            "Downloading data from https://storage.googleapis.com/tensorflow/tf-keras-datasets/mnist.npz\n",
            "11493376/11490434 [==============================] - 0s 0us/step\n"
          ],
          "name": "stdout"
        }
      ]
    },
    {
      "cell_type": "code",
      "metadata": {
        "id": "G7xYN1KDk_h8",
        "colab_type": "code",
        "colab": {}
      },
      "source": [
        "#訓練データxに格納したベクトルデータは0～255の濃淡値で手書き画像を表しています。\n",
        "#この数値を255.0で割って、0～1.Oの値に正規化します。\n",
        "x_train=x_train/255.0\n",
        "x_test=x_test/255.0"
      ],
      "execution_count": 0,
      "outputs": []
    },
    {
      "cell_type": "code",
      "metadata": {
        "id": "B_JrtqV3lRHg",
        "colab_type": "code",
        "colab": {}
      },
      "source": [
        "#正解ラベルy_y_trainとy_testには、0～9の整数が格納されています。\n",
        "#これを、一つだけ1にして残りを0にする配列で表現します。これをone-hot形式といいます。\n",
        "#例 0の場合　0;[1,0,0,0,0,0,0,0,0,0]\n",
        "#例 1の場合  1:[0,1,0,0,0,0,0,0,0,0] \n",
        "#none-hotの変換はkerasのユーテリティを使うか、numpyのnp.eyeを使います。\n",
        "y_train=np.eye(10)[y_train]\n",
        "y_test=np.eye(10)[y_test]"
      ],
      "execution_count": 0,
      "outputs": []
    },
    {
      "cell_type": "code",
      "metadata": {
        "id": "Ce3hlnQMlX6_",
        "colab_type": "code",
        "colab": {}
      },
      "source": [
        "#モデルを定義します。\n",
        "#MNISTの画像は28×28のサイズなので、Flattenで1次元の配列に変換して入力層とします。\n",
        "#次に10個のニューロンを持つ出力層をDenseで定義します。\n",
        "#活性化関数にはsoftmaxを指定します。\n",
        "model=Sequential([\n",
        "    Flatten(input_shape=(28,28)),\n",
        "    Dense(10,activation='softmax')\n",
        "])"
      ],
      "execution_count": 0,
      "outputs": []
    },
    {
      "cell_type": "code",
      "metadata": {
        "id": "aCGJGNguleHd",
        "colab_type": "code",
        "colab": {}
      },
      "source": [
        "#損失関数として交差エントロピーを指定し、最適化関数に確立的最急降下法を指定します。\n",
        "#評価指標に正解率を指定します。\n",
        "model.compile(loss='categorical_crossentropy',\n",
        "              optimizer=SGD(0.5),\n",
        "              metrics=['accuracy'])"
      ],
      "execution_count": 0,
      "outputs": []
    },
    {
      "cell_type": "code",
      "metadata": {
        "id": "QWYTOypiltwp",
        "colab_type": "code",
        "outputId": "95ec15de-516a-429e-b564-00b630808ec1",
        "colab": {
          "base_uri": "https://localhost:8080/",
          "height": 1000
        }
      },
      "source": [
        "#訓練を開始します。\n",
        "history=model.fit(x_train, y_train, epochs=100, batch_size=75,\n",
        "                   verbose=2)"
      ],
      "execution_count": 8,
      "outputs": [
        {
          "output_type": "stream",
          "text": [
            "Train on 60000 samples\n",
            "Epoch 1/100\n",
            "60000/60000 - 4s - loss: 0.3838 - accuracy: 0.8894\n",
            "Epoch 2/100\n",
            "60000/60000 - 2s - loss: 0.3060 - accuracy: 0.9134\n",
            "Epoch 3/100\n",
            "60000/60000 - 2s - loss: 0.2919 - accuracy: 0.9169\n",
            "Epoch 4/100\n",
            "60000/60000 - 2s - loss: 0.2849 - accuracy: 0.9203\n",
            "Epoch 5/100\n",
            "60000/60000 - 2s - loss: 0.2784 - accuracy: 0.9227\n",
            "Epoch 6/100\n",
            "60000/60000 - 2s - loss: 0.2762 - accuracy: 0.9232\n",
            "Epoch 7/100\n",
            "60000/60000 - 2s - loss: 0.2731 - accuracy: 0.9232\n",
            "Epoch 8/100\n",
            "60000/60000 - 2s - loss: 0.2711 - accuracy: 0.9247\n",
            "Epoch 9/100\n",
            "60000/60000 - 2s - loss: 0.2690 - accuracy: 0.9243\n",
            "Epoch 10/100\n",
            "60000/60000 - 2s - loss: 0.2673 - accuracy: 0.9248\n",
            "Epoch 11/100\n",
            "60000/60000 - 2s - loss: 0.2648 - accuracy: 0.9265\n",
            "Epoch 12/100\n",
            "60000/60000 - 2s - loss: 0.2636 - accuracy: 0.9259\n",
            "Epoch 13/100\n",
            "60000/60000 - 2s - loss: 0.2633 - accuracy: 0.9268\n",
            "Epoch 14/100\n",
            "60000/60000 - 2s - loss: 0.2618 - accuracy: 0.9273\n",
            "Epoch 15/100\n",
            "60000/60000 - 2s - loss: 0.2610 - accuracy: 0.9268\n",
            "Epoch 16/100\n",
            "60000/60000 - 2s - loss: 0.2593 - accuracy: 0.9272\n",
            "Epoch 17/100\n",
            "60000/60000 - 2s - loss: 0.2593 - accuracy: 0.9273\n",
            "Epoch 18/100\n",
            "60000/60000 - 2s - loss: 0.2584 - accuracy: 0.9278\n",
            "Epoch 19/100\n",
            "60000/60000 - 2s - loss: 0.2572 - accuracy: 0.9284\n",
            "Epoch 20/100\n",
            "60000/60000 - 2s - loss: 0.2579 - accuracy: 0.9284\n",
            "Epoch 21/100\n",
            "60000/60000 - 2s - loss: 0.2558 - accuracy: 0.9293\n",
            "Epoch 22/100\n",
            "60000/60000 - 2s - loss: 0.2555 - accuracy: 0.9295\n",
            "Epoch 23/100\n",
            "60000/60000 - 2s - loss: 0.2551 - accuracy: 0.9289\n",
            "Epoch 24/100\n",
            "60000/60000 - 2s - loss: 0.2551 - accuracy: 0.9288\n",
            "Epoch 25/100\n",
            "60000/60000 - 2s - loss: 0.2540 - accuracy: 0.9291\n",
            "Epoch 26/100\n",
            "60000/60000 - 2s - loss: 0.2538 - accuracy: 0.9294\n",
            "Epoch 27/100\n",
            "60000/60000 - 2s - loss: 0.2536 - accuracy: 0.9295\n",
            "Epoch 28/100\n",
            "60000/60000 - 2s - loss: 0.2534 - accuracy: 0.9290\n",
            "Epoch 29/100\n",
            "60000/60000 - 2s - loss: 0.2527 - accuracy: 0.9294\n",
            "Epoch 30/100\n",
            "60000/60000 - 2s - loss: 0.2522 - accuracy: 0.9293\n",
            "Epoch 31/100\n",
            "60000/60000 - 2s - loss: 0.2512 - accuracy: 0.9294\n",
            "Epoch 32/100\n",
            "60000/60000 - 2s - loss: 0.2514 - accuracy: 0.9306\n",
            "Epoch 33/100\n",
            "60000/60000 - 2s - loss: 0.2506 - accuracy: 0.9295\n",
            "Epoch 34/100\n",
            "60000/60000 - 2s - loss: 0.2502 - accuracy: 0.9298\n",
            "Epoch 35/100\n",
            "60000/60000 - 2s - loss: 0.2498 - accuracy: 0.9307\n",
            "Epoch 36/100\n",
            "60000/60000 - 2s - loss: 0.2508 - accuracy: 0.9303\n",
            "Epoch 37/100\n",
            "60000/60000 - 2s - loss: 0.2499 - accuracy: 0.9306\n",
            "Epoch 38/100\n",
            "60000/60000 - 2s - loss: 0.2494 - accuracy: 0.9304\n",
            "Epoch 39/100\n",
            "60000/60000 - 2s - loss: 0.2495 - accuracy: 0.9307\n",
            "Epoch 40/100\n",
            "60000/60000 - 2s - loss: 0.2486 - accuracy: 0.9308\n",
            "Epoch 41/100\n",
            "60000/60000 - 2s - loss: 0.2482 - accuracy: 0.9299\n",
            "Epoch 42/100\n",
            "60000/60000 - 2s - loss: 0.2477 - accuracy: 0.9303\n",
            "Epoch 43/100\n",
            "60000/60000 - 2s - loss: 0.2483 - accuracy: 0.9308\n",
            "Epoch 44/100\n",
            "60000/60000 - 2s - loss: 0.2473 - accuracy: 0.9308\n",
            "Epoch 45/100\n",
            "60000/60000 - 2s - loss: 0.2476 - accuracy: 0.9305\n",
            "Epoch 46/100\n",
            "60000/60000 - 2s - loss: 0.2474 - accuracy: 0.9306\n",
            "Epoch 47/100\n",
            "60000/60000 - 2s - loss: 0.2465 - accuracy: 0.9315\n",
            "Epoch 48/100\n",
            "60000/60000 - 2s - loss: 0.2466 - accuracy: 0.9306\n",
            "Epoch 49/100\n",
            "60000/60000 - 2s - loss: 0.2457 - accuracy: 0.9311\n",
            "Epoch 50/100\n",
            "60000/60000 - 2s - loss: 0.2467 - accuracy: 0.9312\n",
            "Epoch 51/100\n",
            "60000/60000 - 2s - loss: 0.2463 - accuracy: 0.9312\n",
            "Epoch 52/100\n",
            "60000/60000 - 2s - loss: 0.2466 - accuracy: 0.9309\n",
            "Epoch 53/100\n",
            "60000/60000 - 2s - loss: 0.2458 - accuracy: 0.9324\n",
            "Epoch 54/100\n",
            "60000/60000 - 2s - loss: 0.2460 - accuracy: 0.9319\n",
            "Epoch 55/100\n",
            "60000/60000 - 2s - loss: 0.2457 - accuracy: 0.9323\n",
            "Epoch 56/100\n",
            "60000/60000 - 2s - loss: 0.2457 - accuracy: 0.9316\n",
            "Epoch 57/100\n",
            "60000/60000 - 2s - loss: 0.2453 - accuracy: 0.9312\n",
            "Epoch 58/100\n",
            "60000/60000 - 2s - loss: 0.2457 - accuracy: 0.9309\n",
            "Epoch 59/100\n",
            "60000/60000 - 2s - loss: 0.2450 - accuracy: 0.9309\n",
            "Epoch 60/100\n",
            "60000/60000 - 2s - loss: 0.2451 - accuracy: 0.9312\n",
            "Epoch 61/100\n",
            "60000/60000 - 2s - loss: 0.2445 - accuracy: 0.9326\n",
            "Epoch 62/100\n",
            "60000/60000 - 2s - loss: 0.2451 - accuracy: 0.9320\n",
            "Epoch 63/100\n",
            "60000/60000 - 2s - loss: 0.2440 - accuracy: 0.9312\n",
            "Epoch 64/100\n",
            "60000/60000 - 2s - loss: 0.2441 - accuracy: 0.9308\n",
            "Epoch 65/100\n",
            "60000/60000 - 2s - loss: 0.2435 - accuracy: 0.9326\n",
            "Epoch 66/100\n",
            "60000/60000 - 2s - loss: 0.2430 - accuracy: 0.9321\n",
            "Epoch 67/100\n",
            "60000/60000 - 2s - loss: 0.2442 - accuracy: 0.9315\n",
            "Epoch 68/100\n",
            "60000/60000 - 2s - loss: 0.2437 - accuracy: 0.9325\n",
            "Epoch 69/100\n",
            "60000/60000 - 2s - loss: 0.2433 - accuracy: 0.9323\n",
            "Epoch 70/100\n",
            "60000/60000 - 2s - loss: 0.2426 - accuracy: 0.9324\n",
            "Epoch 71/100\n",
            "60000/60000 - 2s - loss: 0.2432 - accuracy: 0.9325\n",
            "Epoch 72/100\n",
            "60000/60000 - 2s - loss: 0.2436 - accuracy: 0.9319\n",
            "Epoch 73/100\n",
            "60000/60000 - 2s - loss: 0.2435 - accuracy: 0.9313\n",
            "Epoch 74/100\n",
            "60000/60000 - 2s - loss: 0.2425 - accuracy: 0.9321\n",
            "Epoch 75/100\n",
            "60000/60000 - 2s - loss: 0.2424 - accuracy: 0.9321\n",
            "Epoch 76/100\n",
            "60000/60000 - 2s - loss: 0.2423 - accuracy: 0.9322\n",
            "Epoch 77/100\n",
            "60000/60000 - 2s - loss: 0.2418 - accuracy: 0.9315\n",
            "Epoch 78/100\n",
            "60000/60000 - 2s - loss: 0.2415 - accuracy: 0.9324\n",
            "Epoch 79/100\n",
            "60000/60000 - 2s - loss: 0.2418 - accuracy: 0.9320\n",
            "Epoch 80/100\n",
            "60000/60000 - 2s - loss: 0.2419 - accuracy: 0.9315\n",
            "Epoch 81/100\n",
            "60000/60000 - 2s - loss: 0.2413 - accuracy: 0.9326\n",
            "Epoch 82/100\n",
            "60000/60000 - 2s - loss: 0.2417 - accuracy: 0.9326\n",
            "Epoch 83/100\n",
            "60000/60000 - 2s - loss: 0.2418 - accuracy: 0.9323\n",
            "Epoch 84/100\n",
            "60000/60000 - 2s - loss: 0.2422 - accuracy: 0.9321\n",
            "Epoch 85/100\n",
            "60000/60000 - 2s - loss: 0.2420 - accuracy: 0.9325\n",
            "Epoch 86/100\n",
            "60000/60000 - 2s - loss: 0.2413 - accuracy: 0.9311\n",
            "Epoch 87/100\n",
            "60000/60000 - 2s - loss: 0.2408 - accuracy: 0.9327\n",
            "Epoch 88/100\n",
            "60000/60000 - 2s - loss: 0.2408 - accuracy: 0.9322\n",
            "Epoch 89/100\n",
            "60000/60000 - 2s - loss: 0.2415 - accuracy: 0.9329\n",
            "Epoch 90/100\n",
            "60000/60000 - 2s - loss: 0.2409 - accuracy: 0.9324\n",
            "Epoch 91/100\n",
            "60000/60000 - 2s - loss: 0.2403 - accuracy: 0.9328\n",
            "Epoch 92/100\n",
            "60000/60000 - 2s - loss: 0.2401 - accuracy: 0.9336\n",
            "Epoch 93/100\n",
            "60000/60000 - 2s - loss: 0.2407 - accuracy: 0.9332\n",
            "Epoch 94/100\n",
            "60000/60000 - 2s - loss: 0.2405 - accuracy: 0.9319\n",
            "Epoch 95/100\n",
            "60000/60000 - 2s - loss: 0.2404 - accuracy: 0.9337\n",
            "Epoch 96/100\n",
            "60000/60000 - 2s - loss: 0.2407 - accuracy: 0.9324\n",
            "Epoch 97/100\n",
            "60000/60000 - 2s - loss: 0.2407 - accuracy: 0.9326\n",
            "Epoch 98/100\n",
            "60000/60000 - 2s - loss: 0.2407 - accuracy: 0.9314\n",
            "Epoch 99/100\n",
            "60000/60000 - 2s - loss: 0.2402 - accuracy: 0.9324\n",
            "Epoch 100/100\n",
            "60000/60000 - 2s - loss: 0.2398 - accuracy: 0.9334\n"
          ],
          "name": "stdout"
        }
      ]
    },
    {
      "cell_type": "code",
      "metadata": {
        "id": "tQM7dB7rnIHz",
        "colab_type": "code",
        "outputId": "b44bf6b0-cb26-42db-f079-8d1e627f8c01",
        "colab": {
          "base_uri": "https://localhost:8080/",
          "height": 34
        }
      },
      "source": [
        "#モデルの正解率が表示されます。\n",
        "score=model.evaluate(x_test, y_test, verbose=0)\n",
        "print('Accuracy=',score[1])"
      ],
      "execution_count": 9,
      "outputs": [
        {
          "output_type": "stream",
          "text": [
            "Accuracy= 0.9215\n"
          ],
          "name": "stdout"
        }
      ]
    },
    {
      "cell_type": "code",
      "metadata": {
        "id": "eMWnC6NMnPay",
        "colab_type": "code",
        "colab": {}
      },
      "source": [
        "%matplotlib inline\n",
        "import matplotlib.pyplot as plt"
      ],
      "execution_count": 0,
      "outputs": []
    },
    {
      "cell_type": "code",
      "metadata": {
        "id": "r7bQh8wwnc1q",
        "colab_type": "code",
        "outputId": "eb674421-a583-4ade-d01c-9902e8229e4b",
        "colab": {
          "base_uri": "https://localhost:8080/",
          "height": 897
        }
      },
      "source": [
        "for i in range(10):\n",
        "    plt.figure(figsize=(1,1))\n",
        "    score=model.predict(x_test[i].reshape(1,28,28))\n",
        "    predicted=np.argmax(score)\n",
        "    answer=np.argmax(y_test[i])\n",
        "    plt.title('Answer:'+str(answer)+'Predicted:'+str(predicted))\n",
        "\n",
        "    plt.imshow(x_test[i].reshape(28,28), cmap='gray')\n",
        "    plt.xticks(())\n",
        "    plt.yticks(())\n",
        "    plt.show()"
      ],
      "execution_count": 11,
      "outputs": [
        {
          "output_type": "display_data",
          "data": {
            "image/png": "[encoded data removed]",
            "text/plain": [
              "<Figure size 72x72 with 1 Axes>"
            ]
          },
          "metadata": {
            "tags": []
          }
        },
        {
          "output_type": "display_data",
          "data": {
            "image/png": "[encoded data removed]",
            "text/plain": [
              "<Figure size 72x72 with 1 Axes>"
            ]
          },
          "metadata": {
            "tags": []
          }
        },
        {
          "output_type": "display_data",
          "data": {
            "image/png": "[encoded data removed]",
            "text/plain": [
              "<Figure size 72x72 with 1 Axes>"
            ]
          },
          "metadata": {
            "tags": []
          }
        },
        {
          "output_type": "display_data",
          "data": {
            "image/png": "[encoded data removed]",
            "text/plain": [
              "<Figure size 72x72 with 1 Axes>"
            ]
          },
          "metadata": {
            "tags": []
          }
        },
        {
          "output_type": "display_data",
          "data": {
            "image/png": "[encoded data removed]",
            "text/plain": [
              "<Figure size 72x72 with 1 Axes>"
            ]
          },
          "metadata": {
            "tags": []
          }
        },
        {
          "output_type": "display_data",
          "data": {
            "image/png": "[encoded data removed]",
            "text/plain": [
              "<Figure size 72x72 with 1 Axes>"
            ]
          },
          "metadata": {
            "tags": []
          }
        },
        {
          "output_type": "display_data",
          "data": {
            "image/png": "[encoded data removed]",
            "text/plain": [
              "<Figure size 72x72 with 1 Axes>"
            ]
          },
          "metadata": {
            "tags": []
          }
        },
        {
          "output_type": "display_data",
          "data": {
            "image/png": "[encoded data removed]",
            "text/plain": [
              "<Figure size 72x72 with 1 Axes>"
            ]
          },
          "metadata": {
            "tags": []
          }
        },
        {
          "output_type": "display_data",
          "data": {
            "image/png": "[encoded data removed]",
            "text/plain": [
              "<Figure size 72x72 with 1 Axes>"
            ]
          },
          "metadata": {
            "tags": []
          }
        },
        {
          "output_type": "display_data",
          "data": {
            "image/png": "[encoded data removed]",
            "text/plain": [
              "<Figure size 72x72 with 1 Axes>"
            ]
          },
          "metadata": {
            "tags": []
          }
        }
      ]
    }
  ]
}