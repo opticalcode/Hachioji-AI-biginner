{
  "nbformat": 4,
  "nbformat_minor": 0,
  "metadata": {
    "colab": {
      "private_outputs": true,
      "provenance": [],
      "authorship_tag": "ABX9TyPG5nc67OsyZWa0SAvhjaNA",
      "include_colab_link": true
    },
    "kernelspec": {
      "name": "python3",
      "display_name": "Python 3"
    },
    "language_info": {
      "name": "python"
    }
  },
  "cells": [
    {
      "cell_type": "markdown",
      "metadata": {
        "id": "view-in-github",
        "colab_type": "text"
      },
      "source": [
        "<a href=\"https://colab.research.google.com/github/opticalcode/Hachioji-AI-biginner/blob/master/scikit_learn_EM%E3%82%A2%E3%83%AB%E3%82%B4%E3%83%AA%E3%82%BA%E3%83%A0.ipynb\" target=\"_parent\"><img src=\"https://colab.research.google.com/assets/colab-badge.svg\" alt=\"Open In Colab\"/></a>"
      ]
    },
    {
      "cell_type": "code",
      "execution_count": null,
      "metadata": {
        "id": "yhfV1WEPF_YS"
      },
      "outputs": [],
      "source": [
        "import numpy as np\n",
        "import matplotlib.pyplot as plt\n",
        "from sklearn.mixture import GaussianMixture\n",
        "\n",
        "# データの生成\n",
        "np.random.seed(0)\n",
        "data = np.concatenate([np.random.normal(loc=-1, scale=0.5, size=300), np.random.normal(loc=1, scale=0.5, size=700)])\n",
        "\n",
        "# ガウス混合モデルによる密度推定\n",
        "gmm = GaussianMixture(n_components=2)\n",
        "gmm.fit(data.reshape(-1, 1))\n",
        "\n",
        "# 密度関数のプロット\n",
        "x = np.linspace(-3, 3, 1000)\n",
        "density = np.exp(gmm.score_samples(x.reshape(-1, 1)))\n",
        "\n",
        "plt.figure(figsize=(8, 6))\n",
        "plt.hist(data, bins=30, density=True, alpha=0.3)\n",
        "plt.plot(x, density, color='red')\n",
        "plt.show()"
      ]
    }
  ]
}