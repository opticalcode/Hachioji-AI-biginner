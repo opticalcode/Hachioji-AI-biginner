{
  "nbformat": 4,
  "nbformat_minor": 0,
  "metadata": {
    "colab": {
      "name": "CNNを用いた画像分類器【tf2 keras】",
      "provenance": []
    },
    "kernelspec": {
      "name": "python3",
      "display_name": "Python 3"
    },
    "accelerator": "GPU"
  },
  "cells": [
    {
      "cell_type": "code",
      "metadata": {
        "id": "S174BUw-nxPi",
        "colab_type": "code",
        "outputId": "894fc49f-bd2f-41fc-e877-85b8ce3a4238",
        "colab": {
          "base_uri": "https://localhost:8080/",
          "height": 34
        }
      },
      "source": [
        "#このコードはGoogle Colabの環境でTensorFlow2のライブラリーを使用するためのコードです。\n",
        "try:\n",
        "  %tensorflow_version 2.x\n",
        "except Exception:\n",
        "  pass"
      ],
      "execution_count": 1,
      "outputs": [
        {
          "output_type": "stream",
          "text": [
            "TensorFlow 2.x selected.\n"
          ],
          "name": "stdout"
        }
      ]
    },
    {
      "cell_type": "code",
      "metadata": {
        "colab_type": "code",
        "id": "v9KjFQkfU0kl",
        "outputId": "14105909-eb79-4419-cb38-6795b03f15cf",
        "colab": {
          "base_uri": "https://localhost:8080/",
          "height": 51
        }
      },
      "source": [
        "import numpy as np\n",
        "from tensorflow.keras.models import Sequential\n",
        "from tensorflow.keras.layers import Dense, Flatten, \\\n",
        "    MaxPooling2D, Conv2D, Dropout\n",
        "from tensorflow.keras.optimizers import SGD\n",
        "from tensorflow.keras.datasets import mnist\n",
        "\n",
        "(x_train, y_train), (x_test, y_test) = mnist.load_data()\n",
        "x_train = x_train / 255.0\n",
        "x_test = x_test / 255.0\n",
        "y_train = np.eye(10)[y_train]\n",
        "y_test = np.eye(10)[y_test]"
      ],
      "execution_count": 2,
      "outputs": [
        {
          "output_type": "stream",
          "text": [
            "Downloading data from https://storage.googleapis.com/tensorflow/tf-keras-datasets/mnist.npz\n",
            "11493376/11490434 [==============================] - 0s 0us/step\n"
          ],
          "name": "stdout"
        }
      ]
    },
    {
      "cell_type": "code",
      "metadata": {
        "id": "_WijY4oaZ7Ok",
        "colab_type": "code",
        "colab": {}
      },
      "source": [
        "#画像の2次元特徴を活用するため、x_trainとx_testを4次元のテンソルに変換する。\n",
        "#2番目と3番目の次元で画像のサイズを指定します。\n",
        "x_train = x_train.reshape(-1, 28, 28, 1)\n",
        "x_test = x_test.reshape(-1, 28, 28, 1)"
      ],
      "execution_count": 0,
      "outputs": []
    },
    {
      "cell_type": "code",
      "metadata": {
        "id": "oxVgSorxaEq7",
        "colab_type": "code",
        "colab": {}
      },
      "source": [
        "#画像の5×5の部分領域を畳み込んで、32個の特徴量を抽出する畳み込み層Conv2Dを定義します。\n",
        "#活性化関数をReLU関数とします。\n",
        "model = Sequential([\n",
        "    Conv2D(32, (5, 5), input_shape=(28, 28, 1), activation='relu'),\n",
        "    #次に2×2のMaxプーリング層MaxPooling2Dを生成します。\n",
        "    MaxPooling2D(pool_size=(2,2)),\n",
        "    #第2の畳み込み層も生成します。今度は、32個の特徴量から64個の特徴量を抽出します。\n",
        "    #さらにMaxプーリング層で縮小します。\n",
        "    Conv2D(64, (5, 5), activation='relu'),\n",
        "    MaxPooling2D(pool_size=(2,2)),\n",
        "    #1層のMaxプーリング層で画像サイズは半分になるため、2層のあとでは画像サイズは28の1/4で7、すなわち7×7に縮小されます。これをFlattenで1次元化にします。\n",
        "    #次に、1024個のニューロンを持つ全結合層Denseを生成し、活性化関数としてReLU関数を適用します。\n",
        "    Flatten(),\n",
        "    Dense(1024, activation='relu'),\n",
        "    #過学習を防ぐため、ドロップアウト層Dropoutを生成します。ドロップアウトとは、一部のニューロンを無視して学習する手法です。\n",
        "    #ニューロンの出力をドロップアウトさせる確率を0.5とします。\n",
        "    Dropout(0.5),\n",
        "    #最後に、10個のクラスに対応する10個のニューロンを持つ出力層を定義します。\n",
        "    Dense(10, activation='softmax')\n",
        "])"
      ],
      "execution_count": 0,
      "outputs": []
    },
    {
      "cell_type": "code",
      "metadata": {
        "id": "1V7F0XuvaVZy",
        "colab_type": "code",
        "colab": {}
      },
      "source": [
        "#損失関数を交差エントロピーとし、最適化関数をadamとして、ネットワークをコンパイルします。\n",
        "model.compile(loss='categorical_crossentropy',\n",
        "              optimizer='adam',\n",
        "              metrics=['accuracy'])"
      ],
      "execution_count": 0,
      "outputs": []
    },
    {
      "cell_type": "code",
      "metadata": {
        "id": "uWdwZgq2airU",
        "colab_type": "code",
        "outputId": "3ae12134-da2f-441c-fc6f-694815f4fd11",
        "colab": {
          "base_uri": "https://localhost:8080/",
          "height": 204
        }
      },
      "source": [
        "#訓練を開始します。\n",
        "history = model.fit(x_train, y_train, epochs=5, batch_size=75,\n",
        "                    verbose=1)"
      ],
      "execution_count": 10,
      "outputs": [
        {
          "output_type": "stream",
          "text": [
            "Train on 60000 samples\n",
            "Epoch 1/5\n",
            "60000/60000 [==============================] - 4s 60us/sample - loss: 0.0174 - accuracy: 0.9945\n",
            "Epoch 2/5\n",
            "60000/60000 [==============================] - 3s 56us/sample - loss: 0.0133 - accuracy: 0.9958\n",
            "Epoch 3/5\n",
            "60000/60000 [==============================] - 3s 57us/sample - loss: 0.0120 - accuracy: 0.9957\n",
            "Epoch 4/5\n",
            "60000/60000 [==============================] - 3s 57us/sample - loss: 0.0097 - accuracy: 0.9970\n",
            "Epoch 5/5\n",
            "60000/60000 [==============================] - 3s 57us/sample - loss: 0.0096 - accuracy: 0.9968\n"
          ],
          "name": "stdout"
        }
      ]
    },
    {
      "cell_type": "code",
      "metadata": {
        "id": "h8wFL3MmazAo",
        "colab_type": "code",
        "outputId": "ae1acbc8-37c9-46a6-be5d-c1a27d2229b8",
        "colab": {
          "base_uri": "https://localhost:8080/",
          "height": 51
        }
      },
      "source": [
        "score = model.evaluate(x_test, y_test, verbose=1)\n",
        "print('Accuracy =', score[1])"
      ],
      "execution_count": 11,
      "outputs": [
        {
          "output_type": "stream",
          "text": [
            "10000/10000 [==============================] - 1s 85us/sample - loss: 0.0254 - accuracy: 0.9934\n",
            "Accuracy = 0.9934\n"
          ],
          "name": "stdout"
        }
      ]
    },
    {
      "cell_type": "code",
      "metadata": {
        "id": "7MS_qRWQa7FO",
        "colab_type": "code",
        "outputId": "3e939b6c-51ce-4d1c-97c9-1f774c1be101",
        "colab": {
          "base_uri": "https://localhost:8080/",
          "height": 897
        }
      },
      "source": [
        "%matplotlib inline\n",
        "import matplotlib.pyplot as plt\n",
        "\n",
        "for i in range(10):\n",
        "    plt.figure(figsize=(1,1))\n",
        "\n",
        "    score = model.predict(x_test[i].reshape(1, 28, 28, 1))\n",
        "    predicted = np.argmax(score) \n",
        "    answer = np.argmax(y_test[i])\n",
        "    plt.title('Answer:' + str(answer) + ' Predicted:' + str(predicted))\n",
        "    \n",
        "    plt.imshow(x_test[i].reshape(28, 28), cmap='gray')\n",
        "    plt.xticks(())\n",
        "    plt.yticks(())\n",
        "    plt.show()"
      ],
      "execution_count": 12,
      "outputs": [
        {
          "output_type": "display_data",
          "data": {
            "image/png": "[encoded data removed]",
            "text/plain": [
              "<Figure size 72x72 with 1 Axes>"
            ]
          },
          "metadata": {
            "tags": []
          }
        },
        {
          "output_type": "display_data",
          "data": {
            "image/png": "[encoded data removed]",
            "text/plain": [
              "<Figure size 72x72 with 1 Axes>"
            ]
          },
          "metadata": {
            "tags": []
          }
        },
        {
          "output_type": "display_data",
          "data": {
            "image/png": "[encoded data removed]",
            "text/plain": [
              "<Figure size 72x72 with 1 Axes>"
            ]
          },
          "metadata": {
            "tags": []
          }
        },
        {
          "output_type": "display_data",
          "data": {
            "image/png": "[encoded data removed]",
            "text/plain": [
              "<Figure size 72x72 with 1 Axes>"
            ]
          },
          "metadata": {
            "tags": []
          }
        },
        {
          "output_type": "display_data",
          "data": {
            "image/png": "[encoded data removed]",
            "text/plain": [
              "<Figure size 72x72 with 1 Axes>"
            ]
          },
          "metadata": {
            "tags": []
          }
        },
        {
          "output_type": "display_data",
          "data": {
            "image/png": "[encoded data removed]",
            "text/plain": [
              "<Figure size 72x72 with 1 Axes>"
            ]
          },
          "metadata": {
            "tags": []
          }
        },
        {
          "output_type": "display_data",
          "data": {
            "image/png": "[encoded data removed]",
            "text/plain": [
              "<Figure size 72x72 with 1 Axes>"
            ]
          },
          "metadata": {
            "tags": []
          }
        },
        {
          "output_type": "display_data",
          "data": {
            "image/png": "[encoded data removed]",
            "text/plain": [
              "<Figure size 72x72 with 1 Axes>"
            ]
          },
          "metadata": {
            "tags": []
          }
        },
        {
          "output_type": "display_data",
          "data": {
            "image/png": "[encoded data removed]",
            "text/plain": [
              "<Figure size 72x72 with 1 Axes>"
            ]
          },
          "metadata": {
            "tags": []
          }
        },
        {
          "output_type": "display_data",
          "data": {
            "image/png": "[encoded data removed]",
            "text/plain": [
              "<Figure size 72x72 with 1 Axes>"
            ]
          },
          "metadata": {
            "tags": []
          }
        }
      ]
    }
  ]
}